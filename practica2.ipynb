{
 "cells": [
  {
   "cell_type": "code",
   "execution_count": 1,
   "metadata": {},
   "outputs": [],
   "source": [
    "#importamos las librerias necesarias\n",
    "\n",
    "import pandas as pd\n",
    "import numpy as np\n",
    "from sklearn.model_selection import train_test_split, KFold\n",
    "import pickle\n",
    "import csv"
   ]
  },
  {
   "cell_type": "code",
   "execution_count": 2,
   "metadata": {},
   "outputs": [],
   "source": [
    "class validation_set:\n",
    "    \n",
    "    def __init__(self, X_train, y_train, X_test, y_test):\n",
    "        self.X_train = X_train\n",
    "        self.y_train = y_train\n",
    "        self.X_test = X_test\n",
    "        self.y_test = y_test"
   ]
  },
  {
   "cell_type": "code",
   "execution_count": 3,
   "metadata": {},
   "outputs": [],
   "source": [
    "class test_set:\n",
    "    \n",
    "    def __init__(self, X_test, y_test):\n",
    "        self.X_test = X_test\n",
    "        self.y_test = y_test"
   ]
  },
  {
   "cell_type": "code",
   "execution_count": 4,
   "metadata": {},
   "outputs": [],
   "source": [
    "class data_set:\n",
    "    \n",
    "    def __init__(self, validation_set, test_set):\n",
    "        self.validation_set = validation_set\n",
    "        self.test_set = test_set"
   ]
  },
  {
   "cell_type": "code",
   "execution_count": 5,
   "metadata": {},
   "outputs": [],
   "source": [
    "def create_csv(name_file, data, col_names, list_opt = False):\n",
    "    new_data = data.tolist()\n",
    "\n",
    "    with open(name_file, 'w', newline='') as f:\n",
    "        if list_opt:\n",
    "            new_new_data = [[i] for i in new_data]\n",
    "        else:\n",
    "            new_new_data = new_data\n",
    "        write = csv.writer(f)\n",
    "        write.writerow(col_names)\n",
    "        write.writerows(new_new_data)"
   ]
  },
  {
   "cell_type": "code",
   "execution_count": 6,
   "metadata": {},
   "outputs": [],
   "source": [
    "def generate_train_test(file_name):\n",
    "    df = pd.read_csv(file_name, sep = ',', engine = 'python')\n",
    "    X = df.drop('RainTomorrow', axis = 1).values\n",
    "    y = df['RainTomorrow'].values\n",
    "    columns_names = list(df.columns)\n",
    "    X_train, X_test, y_train, y_test = train_test_split(X, y, test_size=0.2, shuffle = True)\n",
    "    X_columns = columns_names[ :len(columns_names) - 1]\n",
    "    y_columns = columns_names[len(columns_names) - 1 :]\n",
    "    return [X_train, y_train, X_test, y_test, X_columns, y_columns]"
   ]
  },
  {
   "cell_type": "code",
   "execution_count": 7,
   "metadata": {},
   "outputs": [],
   "source": [
    "def generate_folds(data, k):\n",
    "    X_train = data[0]\n",
    "    y_train = data[1]\n",
    "    X_test = data[2]\n",
    "    y_test = data[3]\n",
    "    X_columns = data[4]\n",
    "    y_columns = data[5]\n",
    "    print('Validación cruzada k =', k)\n",
    "    validation_sets = []\n",
    "    kf = KFold(n_splits = k)\n",
    "    c = 0\n",
    "    for train_index, test_index in kf.split(X_train):\n",
    "        c = c + 1\n",
    "        X_train_v, X_test_v = X_train[train_index], X_train[test_index]\n",
    "        y_train_v, y_test_v = y_train[train_index], y_train[test_index]\n",
    "        validation_sets.append(validation_set(X_train_v, y_train_v, X_test_v, y_test_v))\n",
    "        create_csv(name_file = \"./weather/data_validation_train_\" + str(k) + \"_\" + str(c) + \".csv\", \n",
    "                    data = X_train_v, col_names = X_columns)\n",
    "        create_csv(name_file = \"./weather/data_test_\" + str(k) + \"_\" + str(c) + \".csv\", \n",
    "                    data = X_test_v, col_names = X_columns)\n",
    "        create_csv(name_file = \"./weather/target_validation_train_\" + str(k) + \"_\" + str(c) + \".csv\", \n",
    "                    data = y_train_v, col_names = y_columns, list_opt = True)\n",
    "        create_csv(name_file = \"./weather/target_test_\" + str(k) + \"_\" + str(c) + \".csv\", \n",
    "                    data = y_test_v, col_names = y_columns, list_opt = True)        \n",
    "    my_test_set = test_set(X_test, y_test)\n",
    "    my_data_set = data_set(validation_sets, my_test_set) \n",
    "    return (my_data_set)"
   ]
  },
  {
   "cell_type": "code",
   "execution_count": 9,
   "metadata": {},
   "outputs": [
    {
     "data": {
      "text/plain": [
       "[array([['2017-01-19', 'BadgerysCreek', 17.2, ..., 19.4, 21.1, 'No'],\n",
       "        ['2008-11-20', 'Darwin', 26.2, ..., 30.8, 34.1, 'Yes'],\n",
       "        ['2014-03-31', 'AliceSprings', 18.1, ..., 29.2, 35.6, 'No'],\n",
       "        ...,\n",
       "        ['2014-01-05', 'Nuriootpa', 6.0, ..., 16.1, 16.2, 'No'],\n",
       "        ['2012-04-26', 'Canberra', 2.5, ..., 9.3, 16.1, 'No'],\n",
       "        ['2013-12-30', 'Moree', 21.5, ..., 27.4, 38.1, 'No']], dtype=object),\n",
       " array(['No', 'No', 'No', ..., 'No', 'No', 'No'], dtype=object),\n",
       " array([['2012-03-11', 'Perth', 20.2, ..., 28.2, 39.6, 'No'],\n",
       "        ['2017-03-12', 'Brisbane', 21.5, ..., 27.3, 30.6, 'No'],\n",
       "        ['2012-10-17', 'Townsville', 16.3, ..., 25.3, 27.4, 'No'],\n",
       "        ...,\n",
       "        ['2011-09-17', 'SydneyAirport', 14.5, ..., 18.1, 22.1, 'No'],\n",
       "        ['2017-03-16', 'Penrith', 20.3, ..., 21.7, 22.2, nan],\n",
       "        ['2009-01-02', 'Ballarat', 3.0, ..., 9.1, 15.9, 'No']],\n",
       "       dtype=object),\n",
       " array(['No', 'No', 'No', ..., 'No', 'Yes', 'No'], dtype=object),\n",
       " ['Date',\n",
       "  'Location',\n",
       "  'MinTemp',\n",
       "  'MaxTemp',\n",
       "  'Rainfall',\n",
       "  'Evaporation',\n",
       "  'Sunshine',\n",
       "  'WindGustDir',\n",
       "  'WindGustSpeed',\n",
       "  'WindDir9am',\n",
       "  'WindDir3pm',\n",
       "  'WindSpeed9am',\n",
       "  'WindSpeed3pm',\n",
       "  'Humidity9am',\n",
       "  'Humidity3pm',\n",
       "  'Pressure9am',\n",
       "  'Pressure3pm',\n",
       "  'Cloud9am',\n",
       "  'Cloud3pm',\n",
       "  'Temp9am',\n",
       "  'Temp3pm',\n",
       "  'RainToday'],\n",
       " ['RainTomorrow']]"
      ]
     },
     "execution_count": 9,
     "metadata": {},
     "output_type": "execute_result"
    }
   ],
   "source": [
    "data = generate_train_test('./weatherAUS.csv')\n",
    "data"
   ]
  },
  {
   "cell_type": "code",
   "execution_count": 18,
   "metadata": {},
   "outputs": [
    {
     "name": "stdout",
     "output_type": "stream",
     "text": [
      "Validación Cruzada k = 3\n",
      "Completado\n"
     ]
    }
   ],
   "source": [
    "new_data = generate_folds(data, 3)\n",
    "dataset_file = open('./weather/dataset_s' + str(3) + '.pkl', 'wb')\n",
    "pickle.dump(new_data, dataset_file)\n",
    "dataset_file.close()\n",
    "print('Completado')\n",
    "\n",
    "create_csv(name_file = \"./weather/data_test.csv\", data = new_data.test_set.X_test, col_names = data[4])\n",
    "create_csv(name_file = \"./weather/target_test.csv\", data = new_data.test_set.y_test, col_names = data[5], list_opt = True)"
   ]
  },
  {
   "cell_type": "code",
   "execution_count": 22,
   "metadata": {},
   "outputs": [
    {
     "name": "stdout",
     "output_type": "stream",
     "text": [
      "Validación Cruzada k = 5\n",
      "Completado\n"
     ]
    }
   ],
   "source": [
    "new_data = generate_folds(data, 5)\n",
    "dataset_file = open('./weather/dataset_s' + str(5) + '.pkl', 'wb')\n",
    "pickle.dump(new_data, dataset_file)\n",
    "dataset_file.close()\n",
    "print('Completado')\n",
    "\n",
    "create_csv(name_file = \"./weather/data_test.csv\", data = new_data.test_set.X_test, col_names = data[4])\n",
    "create_csv(name_file = \"./weather/target_test.csv\", data = new_data.test_set.y_test, col_names = data[5], list_opt = True)"
   ]
  },
  {
   "cell_type": "code",
   "execution_count": 20,
   "metadata": {},
   "outputs": [
    {
     "name": "stdout",
     "output_type": "stream",
     "text": [
      "Validación Cruzada k = 10\n",
      "Completado\n"
     ]
    }
   ],
   "source": [
    "new_data = generate_folds(data, 10)\n",
    "dataset_file = open('./weather/dataset_s' + str(10) + '.pkl', 'wb')\n",
    "pickle.dump(new_data, dataset_file)\n",
    "dataset_file.close()\n",
    "print('Completado')\n",
    "\n",
    "create_csv(name_file = \"./weather/data_test.csv\", data = new_data.test_set.X_test, col_names = data[4])\n",
    "create_csv(name_file = \"./weather/target_test.csv\", data = new_data.test_set.y_test, col_names = data[5], list_opt = True)"
   ]
  }
 ],
 "metadata": {
  "kernelspec": {
   "display_name": "Python 3 (ipykernel)",
   "language": "python",
   "name": "python3"
  },
  "language_info": {
   "codemirror_mode": {
    "name": "ipython",
    "version": 3
   },
   "file_extension": ".py",
   "mimetype": "text/x-python",
   "name": "python",
   "nbconvert_exporter": "python",
   "pygments_lexer": "ipython3",
   "version": "3.9.13"
  },
  "vscode": {
   "interpreter": {
    "hash": "d1c4aad8cc0b4109a55fda84c17f261b42f2c47b5dc4a1f51d0bcb8cb2fc7121"
   }
  }
 },
 "nbformat": 4,
 "nbformat_minor": 2
}
