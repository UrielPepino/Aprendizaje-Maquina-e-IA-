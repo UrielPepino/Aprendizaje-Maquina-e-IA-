{
 "cells": [
  {
   "cell_type": "markdown",
   "metadata": {},
   "source": [
    "## Practica 7\n",
    "\n",
    "#### Lozano Trejo Uriel \n",
    "##### Aprendizaje maquina e inteligencia artificial   \n",
    "##### 5AM1"
   ]
  },
  {
   "cell_type": "code",
   "execution_count": 1,
   "metadata": {},
   "outputs": [],
   "source": [
    "## Practica 7\n",
    "\n",
    "#### Lozano Trejo Uriel \n",
    "##### Aprendizaje maquina e inteligencia artificial   \n",
    "##### 5AM1\n",
    "\n",
    "import pandas as pd\n",
    "from sklearn.model_selection import train_test_split, KFold\n",
    "from sklearn.metrics import accuracy_score, classification_report, confusion_matrix, ConfusionMatrixDisplay \n",
    "from tabulate import tabulate\n",
    "import numpy as np\n",
    "import matplotlib.pyplot as plt"
   ]
  },
  {
   "cell_type": "code",
   "execution_count": 2,
   "metadata": {},
   "outputs": [],
   "source": [
    "# SVM\n",
    "class SVM:\n",
    "    c_negative = list()\n",
    "    c_positive = list()\n",
    "    c = list()\n",
    "    c_norma = 0\n",
    "        \n",
    "    def fit(self, X_train, y_train):\n",
    "        positives = list()\n",
    "        negatives = list()\n",
    "        for i in range(len(y_train)):\n",
    "            if y_train[i] == 1:\n",
    "                positives.append(X_train[i])\n",
    "            else:\n",
    "                negatives.append(X_train[i])\n",
    "        positives = np.array(positives)\n",
    "        negatives = np.array(negatives)\n",
    "\n",
    "        #vector c + y vector c -\n",
    "        self.c_positive = np.mean(positives, 0)\n",
    "        self.c_negative = np.mean(negatives, 0)\n",
    "        self.c_positive = np.array(self.c_positive)\n",
    "        self.c_negative = np.array(self.c_negative)\n",
    "\n",
    "        #vector c y la norma del vector\n",
    "        self.c = np.array(self.c_positive + self.c_negative) / 2\n",
    "        self.c_norma = np.linalg.norm(self.c)\n",
    "    \n",
    "    # Modelo de preccion\n",
    "    def predict(self, X_test):\n",
    "        y_predict = list()\n",
    "        for x in X_test:\n",
    "            proyection = np.dot(x, self.c) / self.c_norma\n",
    "            if proyection > self.c_norma:\n",
    "                y_predict.append(1)\n",
    "            else:\n",
    "                y_predict.append(0)\n",
    "        return y_predict"
   ]
  },
  {
   "cell_type": "code",
   "execution_count": 3,
   "metadata": {},
   "outputs": [],
   "source": [
    "df = pd.read_csv('heart.csv', sep = ',', engine = 'python')\n",
    "\n",
    "x = df.drop(['target'], axis = 1).values\n",
    "y = df['target'].values\n",
    "\n",
    "x_train,x_test,y_train,y_test = train_test_split(x, y, test_size = 0.3, random_state = 0)"
   ]
  },
  {
   "cell_type": "code",
   "execution_count": 4,
   "metadata": {},
   "outputs": [],
   "source": [
    "svm = SVM()\n",
    "svm.fit(x_train, y_train)"
   ]
  },
  {
   "cell_type": "code",
   "execution_count": 5,
   "metadata": {},
   "outputs": [
    {
     "name": "stdout",
     "output_type": "stream",
     "text": [
      "\n",
      "Vector C+:\n",
      "[5.32542373e+01 5.00000000e-01 1.36440678e+00 1.28991525e+02\n",
      " 2.45398305e+02 1.27118644e-01 5.67796610e-01 1.58203390e+02\n",
      " 1.52542373e-01 5.94915254e-01 1.60169492e+00 3.13559322e-01\n",
      " 2.10169492e+00]\n",
      "\n",
      "Vector C-:\n",
      "[5.61063830e+01 8.29787234e-01 4.68085106e-01 1.34468085e+02\n",
      " 2.50989362e+02 2.02127660e-01 5.21276596e-01 1.39085106e+02\n",
      " 5.85106383e-01 1.70638298e+00 1.18085106e+00 1.19148936e+00\n",
      " 2.48936170e+00]\n",
      "\n",
      "Vector C: \n",
      "[5.46803101e+01 6.64893617e-01 9.16245943e-01 1.31729805e+02\n",
      " 2.48193833e+02 1.64623152e-01 5.44536603e-01 1.48644248e+02\n",
      " 3.68824378e-01 1.15064912e+00 1.39127299e+00 7.52524342e-01\n",
      " 2.29552831e+00]\n",
      "\n",
      "Norma del vector C:\n",
      "322.565971485979\n"
     ]
    }
   ],
   "source": [
    "#Salida C, C+, C- y ||C||\n",
    "\n",
    "print('\\nVector C+:') \n",
    "print(svm.c_positive)\n",
    "\n",
    "print(\"\\nVector C-:\")\n",
    "print(svm.c_negative)\n",
    "\n",
    "print(\"\\nVector C: \")\n",
    "print(svm.c)\n",
    "\n",
    "print(\"\\nNorma del vector C:\")\n",
    "print(svm.c_norma)\n"
   ]
  },
  {
   "cell_type": "code",
   "execution_count": 9,
   "metadata": {},
   "outputs": [
    {
     "name": "stdout",
     "output_type": "stream",
     "text": [
      "\n",
      "Reporte de clasificación\n",
      "\n",
      "Y Test     Y Predict\n",
      "   0          0\n",
      "   1          1\n",
      "   0          1\n",
      "   0          1\n",
      "   1          0\n",
      "   0          1\n",
      "   0          0\n",
      "   0          1\n",
      "   0          1\n",
      "   0          1\n",
      "   1          0\n",
      "   1          1\n",
      "   0          0\n",
      "   1          1\n",
      "   1          0\n",
      "   1          0\n",
      "   1          0\n",
      "   1          1\n",
      "   0          0\n",
      "   1          1\n",
      "   1          0\n",
      "   0          0\n",
      "   0          1\n",
      "   0          0\n",
      "   1          0\n",
      "   0          0\n",
      "   0          0\n",
      "   0          0\n",
      "   1          0\n",
      "   1          0\n",
      "   0          0\n",
      "   0          1\n",
      "   1          1\n",
      "   1          0\n",
      "   1          0\n",
      "   0          1\n",
      "   0          1\n",
      "   1          1\n",
      "   0          0\n",
      "   0          1\n",
      "   1          0\n",
      "   1          1\n",
      "   1          0\n",
      "   0          0\n",
      "   1          0\n",
      "   1          1\n",
      "   1          0\n",
      "   0          0\n",
      "   0          1\n",
      "   1          1\n",
      "   1          1\n",
      "   1          1\n",
      "   1          1\n",
      "   1          0\n",
      "   1          0\n",
      "   0          0\n",
      "   1          0\n",
      "   0          1\n",
      "   1          0\n",
      "   1          0\n",
      "   1          0\n",
      "   1          0\n",
      "   1          1\n",
      "   1          0\n",
      "   0          0\n",
      "   0          1\n",
      "   0          0\n",
      "   0          1\n",
      "   1          0\n",
      "   1          1\n",
      "   1          0\n",
      "   1          1\n",
      "   1          0\n",
      "   0          1\n",
      "   0          0\n",
      "   1          0\n",
      "   0          0\n",
      "   0          0\n",
      "   1          1\n",
      "   1          1\n",
      "   0          0\n",
      "   0          0\n",
      "   0          0\n",
      "   1          0\n",
      "   0          0\n",
      "   0          1\n",
      "   0          1\n",
      "   0          0\n",
      "   1          1\n",
      "   0          0\n",
      "   0          1\n"
     ]
    }
   ],
   "source": [
    "y_predict = svm.predict(x_test)\n",
    "results_test = np.empty(len(y_test))\n",
    "results_predict = np.empty(len(y_test))\n",
    "\n",
    "for i in range(len(y_test)):\n",
    "    results_test[i]= y_test[i]\n",
    "    results_predict[i] = y_predict[i]\n",
    "\n",
    "print(\"\\nReporte de clasificación\\n\")\n",
    "print(f'{\"Y Test\":10} {\"Y Predict\":1}')\n",
    "\n",
    "for i in range(len(y_test)):\n",
    "    print('{0:4} {1:10}'.format(round(results_test[i]), round(results_predict[i])))"
   ]
  },
  {
   "cell_type": "code",
   "execution_count": 7,
   "metadata": {},
   "outputs": [
    {
     "name": "stdout",
     "output_type": "stream",
     "text": [
      "              precision    recall  f1-score   support\n",
      "\n",
      "           1       0.47      0.57      0.52        44\n",
      "           0       0.50      0.40      0.45        47\n",
      "\n",
      "    accuracy                           0.48        91\n",
      "   macro avg       0.49      0.49      0.48        91\n",
      "weighted avg       0.49      0.48      0.48        91\n",
      "\n"
     ]
    }
   ],
   "source": [
    "target_names = list(map(str, [1, 0]))\n",
    "print(classification_report(y_test, y_predict, target_names=target_names))"
   ]
  },
  {
   "cell_type": "code",
   "execution_count": 8,
   "metadata": {},
   "outputs": [
    {
     "name": "stdout",
     "output_type": "stream",
     "text": [
      "Gráfica de la matriz de confusión\n",
      "[[19 28]\n",
      " [19 25]]\n"
     ]
    },
    {
     "data": {
      "image/png": "[encoded data removed]",
      "text/plain": [
       "<Figure size 640x480 with 2 Axes>"
      ]
     },
     "metadata": {},
     "output_type": "display_data"
    }
   ],
   "source": [
    "print('Gráfica de la matriz de confusión')\n",
    "\n",
    "cm = confusion_matrix(y_test, y_predict, labels=[1, 0])\n",
    "print(cm)\n",
    "\n",
    "disp = ConfusionMatrixDisplay(confusion_matrix=cm, display_labels=target_names)\n",
    "disp.plot()\n",
    "plt.show()"
   ]
  }
 ],
 "metadata": {
  "kernelspec": {
   "display_name": "Python 3 (ipykernel)",
   "language": "python",
   "name": "python3"
  },
  "language_info": {
   "codemirror_mode": {
    "name": "ipython",
    "version": 3
   },
   "file_extension": ".py",
   "mimetype": "text/x-python",
   "name": "python",
   "nbconvert_exporter": "python",
   "pygments_lexer": "ipython3",
   "version": "3.9.13"
  },
  "vscode": {
   "interpreter": {
    "hash": "9a4c1e4e558f286a7344b4069352704016b872bdfe6e946e2ac87d9e4c955764"
   }
  }
 },
 "nbformat": 4,
 "nbformat_minor": 2
}
