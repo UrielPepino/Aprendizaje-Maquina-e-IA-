{
 "cells": [
  {
   "cell_type": "code",
   "execution_count": 9,
   "id": "e60dc440",
   "metadata": {},
   "outputs": [],
   "source": [
    "import pandas as pd\n",
    "import matplotlib.pyplot as plt\n",
    "from sklearn.model_selection import train_test_split\n",
    "from sklearn.linear_model import LogisticRegression\n",
    "from sklearn.metrics import accuracy_score\n",
    "from sklearn.metrics import confusion_matrix, ConfusionMatrixDisplay"
   ]
  },
  {
   "cell_type": "code",
   "execution_count": 10,
   "id": "d8333e76",
   "metadata": {},
   "outputs": [],
   "source": [
    "df = pd.read_csv('breast-cancer.csv')\n",
    "## drop Ya sea para eliminar etiquetas del índice (0 o 'índice') o columnas (1 o 'columnas').\n",
    "X = df.drop(['id','diagnosis'], axis = 1).values\n",
    "y = df.diagnosis = [1 if each == \"M\" else 0 for each in df.diagnosis] ##target"
   ]
  },
  {
   "cell_type": "code",
   "execution_count": 11,
   "id": "181e8cb3",
   "metadata": {},
   "outputs": [
    {
     "data": {
      "text/plain": [
       "LogisticRegression(max_iter=100000)"
      ]
     },
     "execution_count": 11,
     "metadata": {},
     "output_type": "execute_result"
    }
   ],
   "source": [
    "#Separa el corpus cargado en el DataFrame en el 90% para entrenamiento y el 10% para pruebas\n",
    "X_train, X_test, y_train, y_test = \\\n",
    "train_test_split(X, y, test_size=0.1, shuffle = True, random_state=0)\n",
    "\n",
    "clf = LogisticRegression(max_iter=100000)\n",
    "clf.fit(X_train, y_train)"
   ]
  },
  {
   "cell_type": "code",
   "execution_count": 12,
   "id": "c67ff685",
   "metadata": {},
   "outputs": [
    {
     "name": "stdout",
     "output_type": "stream",
     "text": [
      "\n",
      " Clase real [1, 0, 0, 0, 0, 0, 0, 0, 0, 0, 0, 0, 0, 0, 0, 1, 0, 1, 1, 1, 1, 1, 0, 0, 1, 0, 0, 1, 0, 1, 0, 1, 0, 1, 0, 1, 0, 1, 0, 1, 1, 0, 1, 0, 0, 1, 0, 0, 0, 1, 1, 1, 1, 0, 0, 0, 0]\n",
      "\n",
      " Clase predicha [1 0 0 0 0 0 0 0 0 0 1 0 0 1 0 1 0 1 1 1 1 1 0 0 1 0 0 1 0 1 0 1 0 1 0 1 0\n",
      " 1 0 1 1 0 1 0 1 1 0 0 0 1 1 1 1 0 0 0 0] \n",
      "\n",
      "\n"
     ]
    }
   ],
   "source": [
    "y_pred = clf.predict(X_test) #la clase predicha\n",
    "\n",
    "print ('\\n Clase real', y_test)\n",
    "print ('\\n Clase predicha', y_pred,'\\n\\n')"
   ]
  },
  {
   "cell_type": "code",
   "execution_count": 13,
   "id": "f8a995bb",
   "metadata": {},
   "outputs": [
    {
     "name": "stdout",
     "output_type": "stream",
     "text": [
      "\n",
      "Matriz de confusión\n",
      "[[32  3]\n",
      " [ 0 22]]\n"
     ]
    }
   ],
   "source": [
    "print('\\nMatriz de confusión')\n",
    "print(confusion_matrix(y_test, y_pred))"
   ]
  },
  {
   "cell_type": "code",
   "execution_count": 14,
   "id": "b3246ee6",
   "metadata": {},
   "outputs": [
    {
     "name": "stdout",
     "output_type": "stream",
     "text": [
      "\n",
      "Precisión\n",
      "Porcentaje de instancias predichas correctamente 94.74 %\n",
      "Cantidad de instancias predichas correctamente 54 \n",
      "\n",
      "\n"
     ]
    }
   ],
   "source": [
    "print('\\nPrecisión')\n",
    "print('Porcentaje de instancias predichas correctamente {:.2f} %'.format (accuracy_score(y_test, y_pred)*100)) \n",
    "print('Cantidad de instancias predichas correctamente',accuracy_score(y_test, y_pred, normalize=False), '\\n\\n') "
   ]
  },
  {
   "cell_type": "code",
   "execution_count": 15,
   "id": "4afa33d1",
   "metadata": {},
   "outputs": [
    {
     "name": "stdout",
     "output_type": "stream",
     "text": [
      "\n",
      " Probabilidad de pertenecer a una clase\n",
      " [[7.03726902e-03 9.92962731e-01]\n",
      " [9.68336232e-01 3.16637681e-02]\n",
      " [9.98744946e-01 1.25505432e-03]\n",
      " [8.62621872e-01 1.37378128e-01]\n",
      " [9.99968856e-01 3.11438411e-05]\n",
      " [9.99449728e-01 5.50272026e-04]\n",
      " [9.97390049e-01 2.60995082e-03]\n",
      " [9.99494132e-01 5.05867769e-04]\n",
      " [9.99888594e-01 1.11406231e-04]\n",
      " [9.99987045e-01 1.29548720e-05]\n",
      " [3.54416722e-01 6.45583278e-01]\n",
      " [8.18880932e-01 1.81119068e-01]\n",
      " [9.99911906e-01 8.80943449e-05]\n",
      " [2.08277731e-01 7.91722269e-01]\n",
      " [7.22949945e-01 2.77050055e-01]\n",
      " [1.28411799e-02 9.87158820e-01]\n",
      " [9.99604795e-01 3.95204945e-04]\n",
      " [9.62217382e-08 9.99999904e-01]\n",
      " [1.94469972e-03 9.98055300e-01]\n",
      " [2.51564991e-10 1.00000000e+00]\n",
      " [1.06142675e-04 9.99893857e-01]\n",
      " [3.97332812e-02 9.60266719e-01]\n",
      " [9.98467497e-01 1.53250349e-03]\n",
      " [9.96653794e-01 3.34620615e-03]\n",
      " [5.18599561e-02 9.48140044e-01]\n",
      " [9.96475142e-01 3.52485833e-03]\n",
      " [9.99812579e-01 1.87421273e-04]\n",
      " [8.63502446e-02 9.13649755e-01]\n",
      " [9.98164466e-01 1.83553376e-03]\n",
      " [6.15059337e-10 9.99999999e-01]\n",
      " [9.99890478e-01 1.09522493e-04]\n",
      " [5.00137024e-06 9.99994999e-01]\n",
      " [7.61689189e-01 2.38310811e-01]\n",
      " [4.42824842e-04 9.99557175e-01]\n",
      " [9.99996429e-01 3.57134667e-06]\n",
      " [1.60307404e-03 9.98396926e-01]\n",
      " [9.52783615e-01 4.72163847e-02]\n",
      " [1.79660528e-05 9.99982034e-01]\n",
      " [9.93889219e-01 6.11078091e-03]\n",
      " [2.90297729e-04 9.99709702e-01]\n",
      " [5.20743209e-02 9.47925679e-01]\n",
      " [9.99953595e-01 4.64046731e-05]\n",
      " [2.33984938e-03 9.97660151e-01]\n",
      " [9.99944004e-01 5.59956760e-05]\n",
      " [9.95597220e-02 9.00440278e-01]\n",
      " [3.23701066e-10 1.00000000e+00]\n",
      " [9.99998565e-01 1.43546760e-06]\n",
      " [9.54249731e-01 4.57502691e-02]\n",
      " [9.99593361e-01 4.06638570e-04]\n",
      " [2.03007787e-04 9.99796992e-01]\n",
      " [1.01994916e-06 9.99998980e-01]\n",
      " [1.45459965e-01 8.54540035e-01]\n",
      " [3.76035769e-06 9.99996240e-01]\n",
      " [9.98994473e-01 1.00552746e-03]\n",
      " [9.95770579e-01 4.22942062e-03]\n",
      " [9.99830425e-01 1.69574750e-04]\n",
      " [9.97198042e-01 2.80195785e-03]] \n",
      "\n",
      "\n"
     ]
    },
    {
     "data": {
      "image/png": "[encoded data removed]",
      "text/plain": [
       "<Figure size 640x480 with 2 Axes>"
      ]
     },
     "metadata": {},
     "output_type": "display_data"
    }
   ],
   "source": [
    "cm = confusion_matrix(y_test, y_pred,labels= clf.classes_)\n",
    "disp = ConfusionMatrixDisplay(confusion_matrix=cm, display_labels=clf.classes_)\n",
    "disp.plot()\n",
    "\n",
    "y_pred_proba = clf.predict_proba(X_test) \n",
    "print ('\\n Probabilidad de pertenecer a una clase\\n', y_pred_proba ,'\\n\\n')\n",
    "plt.show()"
   ]
  }
 ],
 "metadata": {
  "kernelspec": {
   "display_name": "Python 3 (ipykernel)",
   "language": "python",
   "name": "python3"
  },
  "language_info": {
   "codemirror_mode": {
    "name": "ipython",
    "version": 3
   },
   "file_extension": ".py",
   "mimetype": "text/x-python",
   "name": "python",
   "nbconvert_exporter": "python",
   "pygments_lexer": "ipython3",
   "version": "3.9.13"
  }
 },
 "nbformat": 4,
 "nbformat_minor": 5
}
